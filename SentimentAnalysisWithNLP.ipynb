{
 "cells": [
  {
   "cell_type": "markdown",
   "id": "2c9aba3a-f555-432e-92e8-527f01e37d9c",
   "metadata": {},
   "source": [
    "<h4>SENTIMENT ANALYSIS WITH NLP ON RESTAURANT REVIEWS DATASET</h4>"
   ]
  },
  {
   "cell_type": "markdown",
   "id": "64bdecc4-4bad-469a-844d-453a8fa30acb",
   "metadata": {},
   "source": [
    "<h4>Import necessary libraries</h4>"
   ]
  },
  {
   "cell_type": "code",
   "execution_count": 1,
   "id": "54c99c66-f54d-43b3-8807-bd6ae4094020",
   "metadata": {},
   "outputs": [],
   "source": [
    "import numpy as np\n",
    "import pandas as pd\n",
    "import matplotlib.pyplot as plt\n",
    "import seaborn as sns"
   ]
  },
  {
   "cell_type": "markdown",
   "id": "28906c4a-747d-4607-89e8-a7de6fcfafe5",
   "metadata": {},
   "source": [
    "<h4>Load Dataset from kaggle datasets <a href=\"https://www.kaggle.com/datasets/d4rklucif3r/restaurant-reviews\">https://www.kaggle.com/datasets/d4rklucif3r/restaurant-reviews</a> </h4>"
   ]
  },
  {
   "cell_type": "code",
   "execution_count": 2,
   "id": "6211fe2b-39ea-4317-9a58-6e9ad6a3e0c6",
   "metadata": {},
   "outputs": [],
   "source": [
    "df=pd.read_table(\"Restaurant_Reviews.tsv\")"
   ]
  },
  {
   "cell_type": "code",
   "execution_count": 3,
   "id": "789356cf-04ae-4ae8-bc82-6faef7f71642",
   "metadata": {},
   "outputs": [
    {
     "data": {
      "text/html": [
       "<div>\n",
       "<style scoped>\n",
       "    .dataframe tbody tr th:only-of-type {\n",
       "        vertical-align: middle;\n",
       "    }\n",
       "\n",
       "    .dataframe tbody tr th {\n",
       "        vertical-align: top;\n",
       "    }\n",
       "\n",
       "    .dataframe thead th {\n",
       "        text-align: right;\n",
       "    }\n",
       "</style>\n",
       "<table border=\"1\" class=\"dataframe\">\n",
       "  <thead>\n",
       "    <tr style=\"text-align: right;\">\n",
       "      <th></th>\n",
       "      <th>Review</th>\n",
       "      <th>Liked</th>\n",
       "    </tr>\n",
       "  </thead>\n",
       "  <tbody>\n",
       "    <tr>\n",
       "      <th>290</th>\n",
       "      <td>Waited 2 hours &amp; never got either of our pizza...</td>\n",
       "      <td>0</td>\n",
       "    </tr>\n",
       "    <tr>\n",
       "      <th>649</th>\n",
       "      <td>We won't be going back anytime soon!</td>\n",
       "      <td>0</td>\n",
       "    </tr>\n",
       "    <tr>\n",
       "      <th>339</th>\n",
       "      <td>There is nothing authentic about this place.</td>\n",
       "      <td>0</td>\n",
       "    </tr>\n",
       "    <tr>\n",
       "      <th>128</th>\n",
       "      <td>I wouldn't return.</td>\n",
       "      <td>0</td>\n",
       "    </tr>\n",
       "    <tr>\n",
       "      <th>488</th>\n",
       "      <td>It was attached to a gas station, and that is ...</td>\n",
       "      <td>0</td>\n",
       "    </tr>\n",
       "  </tbody>\n",
       "</table>\n",
       "</div>"
      ],
      "text/plain": [
       "                                                Review  Liked\n",
       "290  Waited 2 hours & never got either of our pizza...      0\n",
       "649               We won't be going back anytime soon!      0\n",
       "339       There is nothing authentic about this place.      0\n",
       "128                                 I wouldn't return.      0\n",
       "488  It was attached to a gas station, and that is ...      0"
      ]
     },
     "execution_count": 3,
     "metadata": {},
     "output_type": "execute_result"
    }
   ],
   "source": [
    "df.sample(5)"
   ]
  },
  {
   "cell_type": "code",
   "execution_count": 4,
   "id": "a4d60f52-71e8-44d8-9344-e8b309443c33",
   "metadata": {},
   "outputs": [
    {
     "data": {
      "text/plain": [
       "(1000, 2)"
      ]
     },
     "execution_count": 4,
     "metadata": {},
     "output_type": "execute_result"
    }
   ],
   "source": [
    "df.shape"
   ]
  },
  {
   "cell_type": "code",
   "execution_count": 5,
   "id": "2ae20431-31c5-4bd3-82dc-976f9f418ecf",
   "metadata": {},
   "outputs": [
    {
     "data": {
      "text/plain": [
       "Liked\n",
       "1    500\n",
       "0    500\n",
       "Name: count, dtype: int64"
      ]
     },
     "execution_count": 5,
     "metadata": {},
     "output_type": "execute_result"
    }
   ],
   "source": [
    "df['Liked'].value_counts()"
   ]
  },
  {
   "cell_type": "code",
   "execution_count": 6,
   "id": "5f16ad57-3c16-45f9-8b5f-16a872952b60",
   "metadata": {},
   "outputs": [
    {
     "data": {
      "text/plain": [
       "Review    0\n",
       "Liked     0\n",
       "dtype: int64"
      ]
     },
     "execution_count": 6,
     "metadata": {},
     "output_type": "execute_result"
    }
   ],
   "source": [
    "#checking for null values\n",
    "df.isnull().sum()"
   ]
  },
  {
   "cell_type": "code",
   "execution_count": 7,
   "id": "bccec5f8-12fd-431b-b23c-b6dac6725d69",
   "metadata": {},
   "outputs": [],
   "source": [
    "import nltk"
   ]
  },
  {
   "cell_type": "markdown",
   "id": "eb42973b-d5b2-4fff-a5c2-87c0c832316a",
   "metadata": {},
   "source": [
    "<h4>Preprocessing text data</h4>"
   ]
  },
  {
   "cell_type": "code",
   "execution_count": 8,
   "id": "28a9f4cd-9576-4ad0-b4d5-5382f0e204aa",
   "metadata": {},
   "outputs": [],
   "source": [
    "import re\n",
    "from nltk.corpus  import stopwords\n",
    "from nltk.stem.porter import PorterStemmer\n",
    "st=PorterStemmer()\n",
    "def preprocess(review):\n",
    "    #converting text to lower case\n",
    "    str=' '.join(word.lower() for word in review.split())\n",
    "    #Removing special characters\n",
    "    x=''\n",
    "    for i in str:\n",
    "        if i.isalnum():\n",
    "            x=x+i\n",
    "        else:\n",
    "            x=x+' '\n",
    "    #Remove stopwords\n",
    "    y=[]\n",
    "    for i in x.split():\n",
    "        if i not in stopwords.words('english'):\n",
    "            y.append(i)\n",
    "       \n",
    "    #Perform stemming\n",
    "    s=[]\n",
    "    for i in y:\n",
    "        s.append(st.stem(i))\n",
    "    finalstr=' '.join(s)\n",
    "    text=re.sub(r\"\\s+\",' ',finalstr).strip()\n",
    "    return text\n",
    "            "
   ]
  },
  {
   "cell_type": "code",
   "execution_count": 9,
   "id": "388fbf2f-9eeb-4599-af36-58354c6828d6",
   "metadata": {},
   "outputs": [],
   "source": [
    "df['Review']=df['Review'].apply(preprocess)"
   ]
  },
  {
   "cell_type": "code",
   "execution_count": 10,
   "id": "c4515b54-1309-4e3a-9a97-ada34f20974d",
   "metadata": {},
   "outputs": [
    {
     "data": {
      "text/html": [
       "<div>\n",
       "<style scoped>\n",
       "    .dataframe tbody tr th:only-of-type {\n",
       "        vertical-align: middle;\n",
       "    }\n",
       "\n",
       "    .dataframe tbody tr th {\n",
       "        vertical-align: top;\n",
       "    }\n",
       "\n",
       "    .dataframe thead th {\n",
       "        text-align: right;\n",
       "    }\n",
       "</style>\n",
       "<table border=\"1\" class=\"dataframe\">\n",
       "  <thead>\n",
       "    <tr style=\"text-align: right;\">\n",
       "      <th></th>\n",
       "      <th>Review</th>\n",
       "      <th>Liked</th>\n",
       "    </tr>\n",
       "  </thead>\n",
       "  <tbody>\n",
       "    <tr>\n",
       "      <th>0</th>\n",
       "      <td>wow love place</td>\n",
       "      <td>1</td>\n",
       "    </tr>\n",
       "    <tr>\n",
       "      <th>1</th>\n",
       "      <td>crust good</td>\n",
       "      <td>0</td>\n",
       "    </tr>\n",
       "    <tr>\n",
       "      <th>2</th>\n",
       "      <td>tasti textur nasti</td>\n",
       "      <td>0</td>\n",
       "    </tr>\n",
       "    <tr>\n",
       "      <th>3</th>\n",
       "      <td>stop late may bank holiday rick steve recommen...</td>\n",
       "      <td>1</td>\n",
       "    </tr>\n",
       "    <tr>\n",
       "      <th>4</th>\n",
       "      <td>select menu great price</td>\n",
       "      <td>1</td>\n",
       "    </tr>\n",
       "  </tbody>\n",
       "</table>\n",
       "</div>"
      ],
      "text/plain": [
       "                                              Review  Liked\n",
       "0                                     wow love place      1\n",
       "1                                         crust good      0\n",
       "2                                 tasti textur nasti      0\n",
       "3  stop late may bank holiday rick steve recommen...      1\n",
       "4                            select menu great price      1"
      ]
     },
     "execution_count": 10,
     "metadata": {},
     "output_type": "execute_result"
    }
   ],
   "source": [
    "df.head()"
   ]
  },
  {
   "cell_type": "code",
   "execution_count": 11,
   "id": "0fb311ee-5345-4196-912b-6d18e275f63e",
   "metadata": {},
   "outputs": [],
   "source": [
    "X=df['Review']\n",
    "y=df['Liked']"
   ]
  },
  {
   "cell_type": "markdown",
   "id": "14282b8f-4cde-4b80-98fb-57fa6fbaed95",
   "metadata": {},
   "source": [
    "<h4>Splitting data into training and Testing sets</h4>"
   ]
  },
  {
   "cell_type": "code",
   "execution_count": 12,
   "id": "19fcb7e5-31ef-4e27-8856-b46110b0e716",
   "metadata": {},
   "outputs": [
    {
     "name": "stdout",
     "output_type": "stream",
     "text": [
      "Training Set:(800,),\n",
      "Testing Set:(200,)\n"
     ]
    }
   ],
   "source": [
    "from sklearn.model_selection import train_test_split\n",
    "X_train,X_test,y_train,y_test=train_test_split(X,y,test_size=0.2,random_state=42,stratify=y)\n",
    "print(f\"Training Set:{X_train.shape},\\nTesting Set:{X_test.shape}\")"
   ]
  },
  {
   "cell_type": "markdown",
   "id": "61a32553-cd9b-4527-a95a-eb811e90ccfa",
   "metadata": {},
   "source": [
    "<h4>TF-IDF Vectorization</h4>"
   ]
  },
  {
   "cell_type": "code",
   "execution_count": 13,
   "id": "3dc5c7cf-3628-4219-a214-1eb36e8a4da6",
   "metadata": {},
   "outputs": [],
   "source": [
    "from sklearn.feature_extraction.text import TfidfVectorizer\n",
    "tfidf_vec=TfidfVectorizer(ngram_range=(1,2),max_features=2000)\n",
    "X_train_tfidf=tfidf_vec.fit_transform(X_train)\n",
    "X_test_tfidf=tfidf_vec.transform(X_test)"
   ]
  },
  {
   "cell_type": "markdown",
   "id": "f23c17cf-6e20-450d-bb1e-ce1d03e00a43",
   "metadata": {},
   "source": [
    "<h4>Logistic Regression Model</h4>"
   ]
  },
  {
   "cell_type": "code",
   "execution_count": 14,
   "id": "0077c658-f70b-40a7-80f4-3365c8d3a8fc",
   "metadata": {},
   "outputs": [
    {
     "data": {
      "text/html": [
       "<style>#sk-container-id-1 {color: black;}#sk-container-id-1 pre{padding: 0;}#sk-container-id-1 div.sk-toggleable {background-color: white;}#sk-container-id-1 label.sk-toggleable__label {cursor: pointer;display: block;width: 100%;margin-bottom: 0;padding: 0.3em;box-sizing: border-box;text-align: center;}#sk-container-id-1 label.sk-toggleable__label-arrow:before {content: \"▸\";float: left;margin-right: 0.25em;color: #696969;}#sk-container-id-1 label.sk-toggleable__label-arrow:hover:before {color: black;}#sk-container-id-1 div.sk-estimator:hover label.sk-toggleable__label-arrow:before {color: black;}#sk-container-id-1 div.sk-toggleable__content {max-height: 0;max-width: 0;overflow: hidden;text-align: left;background-color: #f0f8ff;}#sk-container-id-1 div.sk-toggleable__content pre {margin: 0.2em;color: black;border-radius: 0.25em;background-color: #f0f8ff;}#sk-container-id-1 input.sk-toggleable__control:checked~div.sk-toggleable__content {max-height: 200px;max-width: 100%;overflow: auto;}#sk-container-id-1 input.sk-toggleable__control:checked~label.sk-toggleable__label-arrow:before {content: \"▾\";}#sk-container-id-1 div.sk-estimator input.sk-toggleable__control:checked~label.sk-toggleable__label {background-color: #d4ebff;}#sk-container-id-1 div.sk-label input.sk-toggleable__control:checked~label.sk-toggleable__label {background-color: #d4ebff;}#sk-container-id-1 input.sk-hidden--visually {border: 0;clip: rect(1px 1px 1px 1px);clip: rect(1px, 1px, 1px, 1px);height: 1px;margin: -1px;overflow: hidden;padding: 0;position: absolute;width: 1px;}#sk-container-id-1 div.sk-estimator {font-family: monospace;background-color: #f0f8ff;border: 1px dotted black;border-radius: 0.25em;box-sizing: border-box;margin-bottom: 0.5em;}#sk-container-id-1 div.sk-estimator:hover {background-color: #d4ebff;}#sk-container-id-1 div.sk-parallel-item::after {content: \"\";width: 100%;border-bottom: 1px solid gray;flex-grow: 1;}#sk-container-id-1 div.sk-label:hover label.sk-toggleable__label {background-color: #d4ebff;}#sk-container-id-1 div.sk-serial::before {content: \"\";position: absolute;border-left: 1px solid gray;box-sizing: border-box;top: 0;bottom: 0;left: 50%;z-index: 0;}#sk-container-id-1 div.sk-serial {display: flex;flex-direction: column;align-items: center;background-color: white;padding-right: 0.2em;padding-left: 0.2em;position: relative;}#sk-container-id-1 div.sk-item {position: relative;z-index: 1;}#sk-container-id-1 div.sk-parallel {display: flex;align-items: stretch;justify-content: center;background-color: white;position: relative;}#sk-container-id-1 div.sk-item::before, #sk-container-id-1 div.sk-parallel-item::before {content: \"\";position: absolute;border-left: 1px solid gray;box-sizing: border-box;top: 0;bottom: 0;left: 50%;z-index: -1;}#sk-container-id-1 div.sk-parallel-item {display: flex;flex-direction: column;z-index: 1;position: relative;background-color: white;}#sk-container-id-1 div.sk-parallel-item:first-child::after {align-self: flex-end;width: 50%;}#sk-container-id-1 div.sk-parallel-item:last-child::after {align-self: flex-start;width: 50%;}#sk-container-id-1 div.sk-parallel-item:only-child::after {width: 0;}#sk-container-id-1 div.sk-dashed-wrapped {border: 1px dashed gray;margin: 0 0.4em 0.5em 0.4em;box-sizing: border-box;padding-bottom: 0.4em;background-color: white;}#sk-container-id-1 div.sk-label label {font-family: monospace;font-weight: bold;display: inline-block;line-height: 1.2em;}#sk-container-id-1 div.sk-label-container {text-align: center;}#sk-container-id-1 div.sk-container {/* jupyter's `normalize.less` sets `[hidden] { display: none; }` but bootstrap.min.css set `[hidden] { display: none !important; }` so we also need the `!important` here to be able to override the default hidden behavior on the sphinx rendered scikit-learn.org. See: https://github.com/scikit-learn/scikit-learn/issues/21755 */display: inline-block !important;position: relative;}#sk-container-id-1 div.sk-text-repr-fallback {display: none;}</style><div id=\"sk-container-id-1\" class=\"sk-top-container\"><div class=\"sk-text-repr-fallback\"><pre>LogisticRegression()</pre><b>In a Jupyter environment, please rerun this cell to show the HTML representation or trust the notebook. <br />On GitHub, the HTML representation is unable to render, please try loading this page with nbviewer.org.</b></div><div class=\"sk-container\" hidden><div class=\"sk-item\"><div class=\"sk-estimator sk-toggleable\"><input class=\"sk-toggleable__control sk-hidden--visually\" id=\"sk-estimator-id-1\" type=\"checkbox\" checked><label for=\"sk-estimator-id-1\" class=\"sk-toggleable__label sk-toggleable__label-arrow\">LogisticRegression</label><div class=\"sk-toggleable__content\"><pre>LogisticRegression()</pre></div></div></div></div></div>"
      ],
      "text/plain": [
       "LogisticRegression()"
      ]
     },
     "execution_count": 14,
     "metadata": {},
     "output_type": "execute_result"
    }
   ],
   "source": [
    "from sklearn.linear_model import LogisticRegression\n",
    "model=LogisticRegression()\n",
    "model.fit(X_train_tfidf,y_train)\n"
   ]
  },
  {
   "cell_type": "markdown",
   "id": "96f3e872-55a0-463a-af26-c5342c216e50",
   "metadata": {},
   "source": [
    "<h4>Model Evaluation</h4>"
   ]
  },
  {
   "cell_type": "code",
   "execution_count": 15,
   "id": "09fc6547-dbda-4ed1-a731-a5f13050ac47",
   "metadata": {},
   "outputs": [
    {
     "data": {
      "text/plain": [
       "array([1, 0, 0, 0, 1], dtype=int64)"
      ]
     },
     "execution_count": 15,
     "metadata": {},
     "output_type": "execute_result"
    }
   ],
   "source": [
    "y_pred=model.predict(X_test_tfidf)\n",
    "\n",
    "y_pred[:5]"
   ]
  },
  {
   "cell_type": "code",
   "execution_count": 16,
   "id": "4d2d3996-56e4-4001-ac81-6ce947361ff3",
   "metadata": {},
   "outputs": [
    {
     "data": {
      "text/plain": [
       "724    1\n",
       "653    0\n",
       "492    0\n",
       "125    0\n",
       "203    1\n",
       "Name: Liked, dtype: int64"
      ]
     },
     "execution_count": 16,
     "metadata": {},
     "output_type": "execute_result"
    }
   ],
   "source": [
    "y_test[:5]"
   ]
  },
  {
   "cell_type": "code",
   "execution_count": 17,
   "id": "83f37f6d-00e2-4801-b7f8-4bcac9be9e3b",
   "metadata": {},
   "outputs": [
    {
     "name": "stdout",
     "output_type": "stream",
     "text": [
      "Model Accuracy:0.81\n"
     ]
    }
   ],
   "source": [
    "from sklearn.metrics import accuracy_score,classification_report,confusion_matrix\n",
    "acc=accuracy_score(y_test,y_pred)\n",
    "print(f\"Model Accuracy:{acc:.2f}\")"
   ]
  },
  {
   "cell_type": "code",
   "execution_count": 18,
   "id": "dea2e201-6b5e-43ea-ba06-e9d608d8f5d7",
   "metadata": {},
   "outputs": [
    {
     "name": "stdout",
     "output_type": "stream",
     "text": [
      "              precision    recall  f1-score   support\n",
      "\n",
      "           0       0.84      0.76      0.80       100\n",
      "           1       0.78      0.85      0.81       100\n",
      "\n",
      "    accuracy                           0.81       200\n",
      "   macro avg       0.81      0.80      0.80       200\n",
      "weighted avg       0.81      0.81      0.80       200\n",
      "\n"
     ]
    }
   ],
   "source": [
    "print(classification_report(y_test,y_pred))"
   ]
  },
  {
   "cell_type": "code",
   "execution_count": 19,
   "id": "3555783c-428a-443a-9982-f0e214bc6d7d",
   "metadata": {},
   "outputs": [
    {
     "data": {
      "image/png": "[encoded data removed]",
      "text/plain": [
       "<Figure size 800x600 with 2 Axes>"
      ]
     },
     "metadata": {},
     "output_type": "display_data"
    }
   ],
   "source": [
    "cm=confusion_matrix(y_test,y_pred)\n",
    "plt.figure(figsize=(8,6))\n",
    "sns.heatmap(cm,annot=True,fmt='d')\n",
    "plt.xlabel('Predicted')\n",
    "plt.ylabel('Actual')\n",
    "plt.title('Confusion Matrix')\n",
    "plt.show()"
   ]
  },
  {
   "cell_type": "code",
   "execution_count": 20,
   "id": "674f9a07-7d7a-4288-bad0-4fdc3c17ea26",
   "metadata": {},
   "outputs": [],
   "source": [
    "def predict(review):\n",
    "    review_preprocessed=preprocess(review)\n",
    "    review_tfidf=tfidf_vec.transform([review_preprocessed])\n",
    "    prediction=model.predict(review_tfidf)\n",
    "    return \"Positive\" if  prediction[0]==1 else \"Negative\"\n"
   ]
  },
  {
   "cell_type": "markdown",
   "id": "21a060a5-4e04-4418-90fa-ce5ff16dfbe6",
   "metadata": {},
   "source": [
    "<h4>Testing with New Reviews</h4>"
   ]
  },
  {
   "cell_type": "code",
   "execution_count": 21,
   "id": "6d14a5ac-37ae-4d29-96f6-0f5312197d86",
   "metadata": {},
   "outputs": [
    {
     "name": "stdin",
     "output_type": "stream",
     "text": [
      "Enter Review: Delicious food and great service!\n"
     ]
    },
    {
     "name": "stdout",
     "output_type": "stream",
     "text": [
      "Sentiment: Positive\n"
     ]
    },
    {
     "name": "stdin",
     "output_type": "stream",
     "text": [
      "Enter Review: Poor quality product, not worth the price.\n"
     ]
    },
    {
     "name": "stdout",
     "output_type": "stream",
     "text": [
      "Sentiment: Negative\n"
     ]
    }
   ],
   "source": [
    "Review=input(\"Enter Review:\")\n",
    "print(\"Sentiment:\",predict(Review))\n",
    "Review=input(\"Enter Review:\")\n",
    "print(\"Sentiment:\",predict(Review))"
   ]
  },
  {
   "cell_type": "markdown",
   "id": "cc930747-c6f3-431b-b92e-aa7ad91ce057",
   "metadata": {},
   "source": [
    "<h4>CONCLUSIONS:</h4>\n",
    "<h7>- Logistic Regrssion combined with TF-IDF achieves 81% accuracy,indicating effective and reliable performance in classifying customer reviews. </h7><br>\n",
    "<h7>-TF-IDF vectorization successfully captured important word patterns</h7><br>\n",
    "<h7>-The classification report shows good precision,recall and F1-score,showing that model is well-fitted.Some misclassifiications exist but overall performance is good</h7>\n",
    "<br>\n",
    "<h7>-This model can be used by businesses to analyze customer reviews,identify trends and make decisions to enhance services and products.</h7>\n",
    "                                                                                                                                            "
   ]
  }
 ],
 "metadata": {
  "kernelspec": {
   "display_name": "Python 3 (ipykernel)",
   "language": "python",
   "name": "python3"
  },
  "language_info": {
   "codemirror_mode": {
    "name": "ipython",
    "version": 3
   },
   "file_extension": ".py",
   "mimetype": "text/x-python",
   "name": "python",
   "nbconvert_exporter": "python",
   "pygments_lexer": "ipython3",
   "version": "3.8.10"
  }
 },
 "nbformat": 4,
 "nbformat_minor": 5
}
